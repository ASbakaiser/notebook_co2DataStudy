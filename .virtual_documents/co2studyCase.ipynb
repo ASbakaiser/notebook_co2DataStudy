





# Imports librairies

import pandas as pd
import matplotlib.pyplot as plt
import plotly.express as px
import math
import numpy as np


# import data from csv

df = pd.read_csv("co2_emission_by_countries.csv", encoding="latin")
df1 = df.copy()
df = pd.read_csv("continent_data.csv")
df2 = df.copy()





df1.describe()


df1.info()


df1.shape


df1['Country'].value_counts().unique()





df1 = df1.drop(columns=['Calling Code','Code'])


df1





df1 = df1.rename(columns={'CO2 emission (Tons)': 'coTons', 'Population(2022)' : 'population'})


df1





df1 = df1.sort_values('population', ascending = False)











dfSelect2020 = df1[df1['Year'] == 2020]


dfSelect2020





dfNull2020 = dfSelect2020[dfSelect2020.isnull().any(axis=1)]


dfNull2020['Country']





len(dfNull2020.index)





the31Union = dfNull2020['coTons'].sum()
theMostPoluating = dfSelect2020.nlargest(1, 'coTons')


x_value = [theMostPoluating['Country'].values[0], 'U34']
y_value = [theMostPoluating['coTons'].values[0], the31Union]

plt.bar( x_value, y_value)

plt.show()





dfSorted2020 = dfSelect2020.sort_values('coTons', ascending=True)
dfSorted2020


i = 0
countriesSumsCo2 = 0
dfCountriesSums = pd.DataFrame(columns=df1.columns)


while theMostPoluating['coTons'].values[0] > countriesSumsCo2 :
    
    countriesSumsCo2 += dfSorted2020['coTons'].values[i] 

    row = pd.DataFrame([dfSorted2020.iloc[i]])
    dfCountriesSums = pd.concat([dfCountriesSums, row])

    
    i += 1
print(str(i) + " " + str(countriesSumsCo2))
    


dfCountriesSums











df2020Big = dfSelect2020.nlargest(10, 'coTons')


df2020Big





allYearCO2Big = df1[df1['Country'].isin(df2020Big['Country'])]


allYearCO2Big





pivot_table = allYearCO2Big.pivot_table(values='coTons', index='Year', columns='Country')





pivot_table.plot()
plt.ylabel('CO2 TONS')
plt.title('CO2 Emissions over time')
plt.show()





dfCentury19 = allYearCO2Big[(allYearCO2Big['Year'] >= 1800) & (allYearCO2Big['Year'] <= 1900)]


pivot_table = dfCentury19.pivot_table(values='coTons', index='Year', columns='Country')


pivot_table.plot()
plt.ylabel('CO2 TONS')
plt.title('CO2 Emissions over time')
plt.show()





dfCentury20 = allYearCO2Big[(allYearCO2Big['Year'] >= 1900) & (allYearCO2Big['Year'] <= 2000)]


pivot_table = dfCentury20.pivot_table(values='coTons', index='Year', columns='Country')


pivot_table.plot()
plt.ylabel('CO2 TONS')
plt.title('CO2 Emissions over time')
plt.show()


fig = px.line(pivot_table, x=pivot_table.index, y=pivot_table.columns[0:])
fig.show()





dfCentury21 = allYearCO2Big[(allYearCO2Big['Year'] >= 2000) & (allYearCO2Big['Year'] <= 2020)]


pivot_table = dfCentury21.pivot_table(values='coTons', index='Year', columns='Country')


pivot_table


pivot_table.plot()
plt.ylabel('CO2 TONS')
plt.title('CO2 Emissions over time')
plt.show()





pivot_table.plot(figsize=(15, 5), rot=30)
plt.xticks(ticks=pivot_table.index, labels=pivot_table.index.astype(int))
plt.ylabel('CO2 TONS')
plt.title('CO2 Emissions over time')
plt.show()








df2020BigByArea = df2020Big
df2020BigByArea['coByArea'] = (df2020BigByArea['coTons'] / df2020BigByArea['Area'])


df2020BigByArea


df2020BigByArea.plot.bar(x='Country', y='coByArea', rot=30, figsize=(10,5))
plt.show()





allYearCoAreaBig = allYearCO2Big.copy()
allYearCoAreaBig['coByArea'] = (allYearCoAreaBig['coTons'] / allYearCoAreaBig['Area'])


allYearCoAreaBig





pivot_table = allYearCoAreaBig.pivot_table(values='coByArea', index='Year', columns='Country')


pivot_table.plot()
plt.ylabel('CO2 TONS')
plt.title('CO2 Emissions over time by Area')
plt.show()





fig = px.line(pivot_table, x=pivot_table.index, y=pivot_table.columns[0:])


fig.show()





df1['co2ForYear'] = math.nan
df1 = df1.sort_values(['Country','Year'], ascending=[True,True])
df1['co2ForYear'] = df1.groupby('Country')['coTons'].diff()
df1['co2ForYear'] = df1['co2ForYear'].fillna(df1['coTons'])



df1





mostCoByYear = df1[df1['Country'].isin(df2020Big['Country'].values)]


mostCoByYear


pivot_table = mostCoByYear.pivot_table(index = 'Year', values='co2ForYear',columns='Country' )


fig = px.line(pivot_table, x=pivot_table.index, y=pivot_table.columns[0:])
fig.show()














df2test = df2[df2['Entity'].str.contains('united', case=False)]
df2test


df1['Continent'] = math.nan


df1.head(10)


df1[df1['Country'].isin(df2['Entity'])]


df1[~df1['Country'].isin(df2['Entity'])]['Country'].unique()





concat = pd.DataFrame({'Entity':['Faeroe Islands','Micronesia','Timor'], 'Code': math.nan, 'Year': math.nan, 'Continent':['Europe', 'Oceania', 'Asia']} )


df2 = pd.concat([df2, concat])


df2


df2.drop(['Code', 'Year'], axis=1, inplace=True)


df2.head()


df2.reset_index(drop=True, inplace=True)


df1['Country'].dtype





df2_dic = df2.set_index('Entity')['Continent'].to_dict()
df1['Continent'] = df1['Country'].map(df2_dic)


df1.groupby('Country').first().head(10)








def getPlot (df,category,type, plotType, mark):
        
    if plotType == 'bar':
        
        #sum value for getting value for continent 
        if category == 'Continent':
            df = df.groupby(['Year',category])[type].sum().reset_index()
        
        fig = px.bar(df, x='Year', y=type, color = category, barmode='group',  title=(type + ' By ' + category))
        fig.show()

    
    if plotType == 'line':
        fig = px.line(df, x=df.index, y=df.columns[0:], markers = mark,  title=(type + ' By ' + category))
        
        fig.show()







def getPivot(df, category, type):
    pivot_table = None

    #pivot table with sum of all '$type' have the same '$category' 
    if category == 'Continent':
        pivot_table = df.pivot_table(index='Year', columns=category, values=type, aggfunc='sum')

        
    else:
        pivot_table = df.pivot_table(index='Year', columns=category, values=type)
    
    return pivot_table






def getFilter(year,  category, range, list, df):

        # set on first letter for prevent error
        list = [item.capitalize() for item in list]

        #set a dataframe for a range of value
        if range == 'Yes' :
            df_filtered = df[df[category].isin(list) & df['Year'].between(year[0], year[1])]  

        #set a dataframe for a range of value take one or many value
        else :
            df_filtered = df[df[category].isin(list) & df['Year'].isin(year)]
            
        return df_filtered




"""

Year -> take a list of date to select one or many
Category -> If you need country data or ContinentData
Range -> take string if Yes : return year in a range, else : selected year only
df -> taking the dataframe 
list -> list of country
type -> take a list of continent or country
plotType ->'bar' or 'line'
marker if line is True
"""





def renderPlot(year, category, range, list, df,type, plotType, mark):

    category = category.capitalize()
    
    filterData = getFilter(year, category, range, list, df)
      
    if plotType == 'line':
        BernardPivot = getPivot(filterData, category, type )
        return getPlot(BernardPivot,category,type, plotType, mark)

    else:
        return getPlot(filterData,category,type, plotType, mark)
    
    





renderPlot([1980,1995,1998,1999, 2000],'Country', 1, ['France', 'Belgium','Yemen'], df1,'co2ForYear', 'line', True)





renderPlot([1980,1995,1998, 2000],'Country', 1, ['France', 'Belgium','Yemen'], df1,'coTons', 'line', True)





renderPlot([1980, 2000],'Country', 'Yes', ['France', 'belgium', 'canada'], df1,'co2ForYear', 'bar', True)





renderPlot([1995, 2002, 2000],'Continent', 'Yes', ['europe', 'asia'], df1,'coTons', 'bar', True)





renderPlot([1995, 2002],'Continent', 'Yes', ['europe', 'asia'], df1,'coTons', 'line', True)



